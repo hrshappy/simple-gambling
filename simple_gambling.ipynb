{
 "cells": [
  {
   "cell_type": "code",
   "execution_count": 361,
   "metadata": {},
   "outputs": [],
   "source": [
    "import numpy as np\n",
    "import copy"
   ]
  },
  {
   "cell_type": "code",
   "execution_count": 393,
   "metadata": {},
   "outputs": [],
   "source": [
    "def nochange_bet(size, seed=None):\n",
    "    np.random.seed(seed)\n",
    "    sequence = [-1, 1]\n",
    "    policy_nochange = np.random.choice(sequence, size, replace=True)\n",
    "    return policy_nochange"
   ]
  },
  {
   "cell_type": "code",
   "execution_count": 394,
   "metadata": {},
   "outputs": [],
   "source": [
    "def double_bet(sequence):\n",
    "    policy_double = copy.deepcopy(sequence)\n",
    "    for i,j in enumerate(policy_double):\n",
    "        if j<0:\n",
    "            policy_double[i+1] = policy_double[i+1]*2\n",
    "        if i==len(policy_double)-2:\n",
    "            break\n",
    "    return policy_double"
   ]
  },
  {
   "cell_type": "code",
   "execution_count": 440,
   "metadata": {},
   "outputs": [
    {
     "name": "stdout",
     "output_type": "stream",
     "text": [
      "-5664 -10700\n"
     ]
    }
   ],
   "source": [
    "size = 10000000\n",
    "policy_nochange = nochange_bet(size)\n",
    "policy_double = double_bet(policy_nochange)\n",
    "print(np.sum(policy_nochange), np.sum(policy_double))"
   ]
  },
  {
   "cell_type": "code",
   "execution_count": 445,
   "metadata": {},
   "outputs": [],
   "source": [
    "def list_generator(size=1000000, literation=100):\n",
    "    nochange_list = []\n",
    "    double_list = []\n",
    "    for i in range(literation):\n",
    "        policy_nochange = nochange_bet(size)\n",
    "        policy_double = double_bet(policy_nochange)\n",
    "        nochange_list.append(sum(policy_nochange))\n",
    "        double_list.append(sum(policy_double))\n",
    "        print(i)\n",
    "    return nochange_list, double_list"
   ]
  },
  {
   "cell_type": "code",
   "execution_count": 446,
   "metadata": {
    "collapsed": true
   },
   "outputs": [
    {
     "name": "stdout",
     "output_type": "stream",
     "text": [
      "0\n",
      "1\n",
      "2\n",
      "3\n",
      "4\n",
      "5\n",
      "6\n",
      "7\n",
      "8\n",
      "9\n",
      "10\n",
      "11\n",
      "12\n",
      "13\n",
      "14\n",
      "15\n",
      "16\n",
      "17\n",
      "18\n",
      "19\n",
      "20\n",
      "21\n",
      "22\n",
      "23\n",
      "24\n",
      "25\n",
      "26\n",
      "27\n",
      "28\n",
      "29\n",
      "30\n",
      "31\n",
      "32\n",
      "33\n",
      "34\n",
      "35\n",
      "36\n",
      "37\n",
      "38\n",
      "39\n",
      "40\n",
      "41\n",
      "42\n",
      "43\n",
      "44\n",
      "45\n",
      "46\n",
      "47\n",
      "48\n",
      "49\n",
      "50\n",
      "51\n",
      "52\n",
      "53\n",
      "54\n",
      "55\n",
      "56\n",
      "57\n",
      "58\n",
      "59\n",
      "60\n",
      "61\n",
      "62\n",
      "63\n",
      "64\n",
      "65\n",
      "66\n",
      "67\n",
      "68\n",
      "69\n",
      "70\n",
      "71\n",
      "72\n",
      "73\n",
      "74\n",
      "75\n",
      "76\n",
      "77\n",
      "78\n",
      "79\n",
      "80\n",
      "81\n",
      "82\n",
      "83\n",
      "84\n",
      "85\n",
      "86\n",
      "87\n",
      "88\n",
      "89\n",
      "90\n",
      "91\n",
      "92\n",
      "93\n",
      "94\n",
      "95\n",
      "96\n",
      "97\n",
      "98\n",
      "99\n"
     ]
    }
   ],
   "source": [
    "nochange_list, double_list = list_generator()"
   ]
  },
  {
   "cell_type": "code",
   "execution_count": 454,
   "metadata": {},
   "outputs": [
    {
     "name": "stdout",
     "output_type": "stream",
     "text": [
      "[1047, -819, 1587, 854, 2279, -720, 1685, -73, -1677, -368, -319, -105, 339, -11, -484, -162, 214, -697, 603, -30, 604, 435, -1034, 1494, -406, 577, -410, -1210, -690, 1075, -1126, 1649, -170, -373, 216, -34, 36, 114, 35, 178, -196, -557, -693, -443, -315, -111, -796, 80, 19, 959, 312, 977, 662, -355, -110, 348, 455, -361, 166, 1001, 567, 853, 1037, -489, 486, -289, -961, -1429, 969, 234, -127, -951, -165, -82, 735, 532, -849, 46, -125, 2132, -1147, 443, -218, -580, 565, -1037, 377, -922, -383, -590, 899, -473, -1013, -904, 617, 617, 109, 0, -791, -216]\n"
     ]
    }
   ],
   "source": [
    "print(list(map(lambda x, y: x - y, double_list, nochange_list)))"
   ]
  },
  {
   "cell_type": "code",
   "execution_count": 451,
   "metadata": {},
   "outputs": [
    {
     "name": "stdout",
     "output_type": "stream",
     "text": [
      "[1256, -1124, 2120, 608, 2084, -228, 1652, -40, -2648, 228, -444, -618, 534, -306, -282, -466, -140, -772, 50, -400, 584, 1212, -478, 1016, -318, 1658, -1134, -2140, -932, 1046, -1018, 1270, 318, -1290, -334, -824, -760, -900, 476, 14, 130, -1106, 30, -1728, -52, 52, -814, -564, -70, 2490, -476, -52, 1196, -1244, 36, 860, 238, 52, 564, 480, 396, 752, 174, 450, 670, 620, -2244, -2606, -290, 250, -594, 142, 344, -530, -642, 82, -948, -146, -628, 2572, -1386, 154, 318, -1274, 1252, -1470, 1112, 1014, 288, -1276, 2916, -278, -934, 880, 970, 450, -154, -322, -1118, -70] [2303, -1943, 3707, 1462, 4363, -948, 3337, -113, -4325, -140, -763, -723, 873, -317, -766, -628, 74, -1469, 653, -430, 1188, 1647, -1512, 2510, -724, 2235, -1544, -3350, -1622, 2121, -2144, 2919, 148, -1663, -118, -858, -724, -786, 511, 192, -66, -1663, -663, -2171, -367, -59, -1610, -484, -51, 3449, -164, 925, 1858, -1599, -74, 1208, 693, -309, 730, 1481, 963, 1605, 1211, -39, 1156, 331, -3205, -4035, 679, 484, -721, -809, 179, -612, 93, 614, -1797, -100, -753, 4704, -2533, 597, 100, -1854, 1817, -2507, 1489, 92, -95, -1866, 3815, -751, -1947, -24, 1587, 1067, -45, -322, -1909, -286]\n"
     ]
    }
   ],
   "source": [
    "print(nochange_list, double_list)"
   ]
  },
  {
   "cell_type": "code",
   "execution_count": null,
   "metadata": {},
   "outputs": [],
   "source": []
  }
 ],
 "metadata": {
  "kernelspec": {
   "display_name": "Python 3",
   "language": "python",
   "name": "python3"
  },
  "language_info": {
   "codemirror_mode": {
    "name": "ipython",
    "version": 3
   },
   "file_extension": ".py",
   "mimetype": "text/x-python",
   "name": "python",
   "nbconvert_exporter": "python",
   "pygments_lexer": "ipython3",
   "version": "3.6.4"
  }
 },
 "nbformat": 4,
 "nbformat_minor": 2
}
